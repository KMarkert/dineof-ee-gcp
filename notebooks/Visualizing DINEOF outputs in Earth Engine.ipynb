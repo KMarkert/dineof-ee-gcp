{
  "metadata": {
    "kernelspec": {
      "name": "python3",
      "display_name": "Python 3 (ipykernel)",
      "language": "python"
    },
    "language_info": {
      "name": "python",
      "version": "3.10.4",
      "mimetype": "text/x-python",
      "codemirror_mode": {
        "name": "ipython",
        "version": 3
      },
      "pygments_lexer": "ipython3",
      "nbconvert_exporter": "python",
      "file_extension": ".py"
    },
    "colab": {
      "provenance": []
    }
  },
  "nbformat_minor": 5,
  "nbformat": 4,
  "cells": [
    {
      "cell_type": "markdown",
      "source": [
        "Visualize outputs of the DINEOF process in EarthEngine with `geemap`"
      ],
      "metadata": {
        "id": "IgI_y2MJk1w0"
      },
      "id": "IgI_y2MJk1w0"
    },
    {
      "cell_type": "markdown",
      "source": [
        "Import and set up the Earth Engine API"
      ],
      "metadata": {
        "id": "jso8dagplJW-"
      },
      "id": "jso8dagplJW-"
    },
    {
      "cell_type": "code",
      "source": [
        "import ee\n",
        "import geemap\n",
        "ee.Authenticate()\n",
        "ee.Initialize()"
      ],
      "metadata": {
        "id": "91t6PH6ykn1o"
      },
      "id": "91t6PH6ykn1o",
      "execution_count": null,
      "outputs": []
    },
    {
      "cell_type": "code",
      "source": [
        "projectId = !gcloud config get-value project\n",
        "projectId = projectId[0]\n",
        "projectId"
      ],
      "metadata": {
        "colab": {
          "base_uri": "https://localhost:8080/",
          "height": 35
        },
        "id": "Ph0gQ5uLka7a",
        "executionInfo": {
          "status": "ok",
          "timestamp": 1697041764434,
          "user_tz": 420,
          "elapsed": 1042,
          "user": {
            "displayName": "",
            "userId": ""
          }
        },
        "outputId": "67fc5669-9e90-4678-91c4-f18f95777431"
      },
      "id": "Ph0gQ5uLka7a",
      "execution_count": 7,
      "outputs": [
        {
          "output_type": "execute_result",
          "data": {
            "text/plain": [
              ""
            ],
            "application/vnd.google.colaboratory.intrinsic+json": {
              "type": "string"
            }
          },
          "metadata": {},
          "execution_count": 7
        }
      ]
    },
    {
      "cell_type": "markdown",
      "source": [
        "Visualize on a map."
      ],
      "metadata": {
        "id": "NEjxziwglrUW"
      },
      "id": "NEjxziwglrUW"
    },
    {
      "cell_type": "code",
      "source": [
        "from IPython.display import Image\n",
        "\n",
        "# create parameters to create a gif\n",
        "videoParams = {\n",
        "  \"region\": region,\n",
        "  \"crs\": 'epsg:4326',\n",
        "  \"framesPerSecond\": 2,\n",
        "  \"dimensions\": 300,\n",
        "  # \"bands\": [\"red\", \"green\", \"blue\"]\n",
        "}\n",
        "\n",
        "# function to visualize the results and add the land mask\n",
        "def gifPrep(img):\n",
        "  return img.visualize(**sstVis).blend(\n",
        "      landMask.visualize(min=0,\n",
        "                         max=1,\n",
        "                         palette=\"silver\",\n",
        "                         bands=[\"water_mask\"])\n",
        "  )\n",
        "\n",
        "# create the gifs\n",
        "originalGif = original.map(gifPrep)\n",
        "dineofGif = dineofResults.map(gifPrep)\n",
        "\n",
        "# print the gif result url\n",
        "display(Image(url=originalGif.getVideoThumbURL(params=videoParams)),\n",
        "        Image(url=dineofGif.getVideoThumbURL(params=videoParams)))"
      ],
      "metadata": {
        "colab": {
          "base_uri": "https://localhost:8080/",
          "height": 261
        },
        "id": "tnOcdLpxplrj",
        "outputId": "302f0379-7c70-4007-823f-4884c8b2c708"
      },
      "id": "tnOcdLpxplrj",
      "execution_count": null,
      "outputs": [
        {
          "output_type": "execute_result",
          "data": {
            "text/html": [
              ""
            ],
            "text/plain": [
              "<IPython.core.display.Image object>"
            ]
          },
          "metadata": {},
          "execution_count": 42
        }
      ]
    }
  ]
}
